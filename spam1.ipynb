{
 "cells": [
  {
   "cell_type": "code",
   "execution_count": 1,
   "metadata": {},
   "outputs": [],
   "source": [
    "import numpy as np\n",
    "import re\n",
    "import random"
   ]
  },
  {
   "cell_type": "code",
   "execution_count": 2,
   "metadata": {},
   "outputs": [],
   "source": [
    "\"\"\"\n",
    "函数说明:将切分的实验样本词条整理成不重复的词条列表，也就是词汇表\n",
    "Parameters:\n",
    "    dataSet - 整理的样本数据集\n",
    "Returns:\n",
    "    vocabSet - 返回不重复的词条列表，也就是词汇表\n",
    "\"\"\"\n",
    "def createVocabList(dataSet):\n",
    "    vocabSet = set([])  # 创建一个空的不重复列表\n",
    "    for document in dataSet:\n",
    "        vocabSet = vocabSet | set(document)  # 取并集\n",
    "    return list(vocabSet)"
   ]
  },
  {
   "cell_type": "code",
   "execution_count": 3,
   "metadata": {},
   "outputs": [],
   "source": [
    "\"\"\"\n",
    "函数说明:根据vocabList词汇表，将inputSet向量化，向量的每个元素为1或0\n",
    "Parameters:\n",
    "    vocabList - createVocabList返回的列表\n",
    "    inputSet - 切分的词条列表\n",
    "Returns:\n",
    "    returnVec - 文档向量,词集模型\n",
    "\"\"\"\n",
    "def setOfWords2Vec(vocabList, inputSet):\n",
    "    returnVec = [0] * len(vocabList)               #创建一个其中所含元素都为0的向量\n",
    "    for word in inputSet:                          #遍历每个词条\n",
    "        if word in vocabList:                      #如果词条存在于词汇表中，则置1\n",
    "            returnVec[vocabList.index(word)] = 1\n",
    "        else:\n",
    "            print(\"the word: %s is not in my Vocabulary!\" % word)\n",
    "    return returnVec        #返回文档向量"
   ]
  },
  {
   "cell_type": "code",
   "execution_count": 4,
   "metadata": {},
   "outputs": [],
   "source": [
    "\"\"\"\n",
    "函数说明:根据vocabList词汇表，构建词袋模型\n",
    "Parameters:\n",
    "    vocabList - createVocabList返回的列表\n",
    "    inputSet - 切分的词条列表\n",
    "Returns:\n",
    "    returnVec - 文档向量,词袋模型\n",
    "\"\"\"\n",
    "def bagOfWords2VecMN(vocabList, inputSet):\n",
    "    returnVec = [0] * len(vocabList)  # 创建一个其中所含元素都为0的向量\n",
    "    for word in inputSet:             # 遍历每个词条\n",
    "        if word in vocabList:         # 如果词条存在于词汇表中，则计数加一\n",
    "            returnVec[vocabList.index(word)] += 1\n",
    "    return returnVec  # 返回词袋模型"
   ]
  },
  {
   "cell_type": "code",
   "execution_count": 5,
   "metadata": {},
   "outputs": [],
   "source": [
    "\"\"\"\n",
    "函数说明:朴素贝叶斯分类器训练函数\n",
    "Parameters:\n",
    "    trainMatrix - 训练文档矩阵，即setOfWords2Vec返回的returnVec构成的矩阵\n",
    "    trainCategory - 训练类别标签向量，即loadDataSet返回的classVec\n",
    "Returns:\n",
    "    p0Vect - 正常邮件类的条件概率数组\n",
    "    p1Vect - 垃圾邮件类的条件概率数组\n",
    "    pAbusive - 文档属于垃圾邮件类的概率\n",
    "\"\"\"\n",
    "def trainNB0(trainMatrix, trainCategory):\n",
    "    numTrainDocs = len(trainMatrix)  # 计算训练的文档数目\n",
    "    numWords = len(trainMatrix[0])  # 计算每篇文档的词条数\n",
    "    pAbusive = sum(trainCategory) / float(numTrainDocs)  # 文档属于垃圾邮件类的概率\n",
    "    p0Num = np.ones(numWords)\n",
    "    p1Num = np.ones(numWords)  # 创建numpy.ones数组,词条出现数初始化为1,拉普拉斯平滑\n",
    "    p0Denom = 2.0\n",
    "    p1Denom = 2.0  # 分母初始化为2 ,拉普拉斯平滑\n",
    "    for i in range(numTrainDocs):\n",
    "        if trainCategory[i] == 1:  # 统计属于侮辱类的条件概率所需的数据，即P(w0|1),P(w1|1),P(w2|1)···\n",
    "            p1Num += trainMatrix[i]\n",
    "            p1Denom += sum(trainMatrix[i])\n",
    "        else:  # 统计属于非侮辱类的条件概率所需的数据，即P(w0|0),P(w1|0),P(w2|0)···\n",
    "            p0Num += trainMatrix[i]\n",
    "            p0Denom += sum(trainMatrix[i])\n",
    "    p1Vect = np.log(p1Num / p1Denom)\n",
    "    p0Vect = np.log(p0Num / p0Denom)   #取对数，防止下溢出\n",
    "    return p0Vect, p1Vect, pAbusive  # 返回属于正常邮件类的条件概率数组，属于侮辱垃圾邮件类的条件概率数组，文档属于垃圾邮件类的概率"
   ]
  },
  {
   "cell_type": "code",
   "execution_count": 6,
   "metadata": {},
   "outputs": [],
   "source": [
    "\"\"\"\n",
    "函数说明:朴素贝叶斯分类器分类函数\n",
    "Parameters:\n",
    "\tvec2Classify - 待分类的词条数组\n",
    "\tp0Vec - 正常邮件类的条件概率数组\n",
    "\tp1Vec - 垃圾邮件类的条件概率数组\n",
    "\tpClass1 - 文档属于垃圾邮件的概率\n",
    "Returns:\n",
    "\t0 - 属于正常邮件类\n",
    "\t1 - 属于垃圾邮件类\n",
    "\"\"\"\n",
    "def classifyNB(vec2Classify, p0Vec, p1Vec, pClass1):\n",
    "    #p1 = reduce(lambda x, y: x * y, vec2Classify * p1Vec) * pClass1  # 对应元素相乘\n",
    "    #p0 = reduce(lambda x, y: x * y, vec2Classify * p0Vec) * (1.0 - pClass1)\n",
    "    p1=sum(vec2Classify*p1Vec)+np.log(pClass1)\n",
    "    p0=sum(vec2Classify*p0Vec)+np.log(1.0-pClass1)\n",
    "    if p1 > p0:\n",
    "        return 1\n",
    "    else:\n",
    "        return 0"
   ]
  },
  {
   "cell_type": "code",
   "execution_count": 7,
   "metadata": {},
   "outputs": [],
   "source": [
    "\"\"\"\n",
    "函数说明:接收一个大字符串并将其解析为字符串列表\n",
    "\"\"\"\n",
    "def textParse(bigString):  # 将字符串转换为字符列表\n",
    "    listOfTokens = re.split(r'\\W+', bigString)  # 将特殊符号作为切分标志进行字符串切分，即非字母、非数字\n",
    "    return [tok.lower() for tok in listOfTokens if len(tok) > 2]  # 除了单个字母，例如大写的I，其它单词变成小写"
   ]
  },
  {
   "cell_type": "code",
   "execution_count": 8,
   "metadata": {},
   "outputs": [],
   "source": [
    "\"\"\"\n",
    "函数说明:测试朴素贝叶斯分类器，使用朴素贝叶斯进行交叉验证\n",
    "\"\"\"\n",
    "def spamTest():\n",
    "    docList = []\n",
    "    classList = []\n",
    "    fullText = []\n",
    "    for i in range(1, 26):  # 遍历25个txt文件\n",
    "        wordList = textParse(open('email/spam/%d.txt' % i, 'r').read())  # 读取每个垃圾邮件，并字符串转换成字符串列表\n",
    "        docList.append(wordList)\n",
    "        fullText.append(wordList)\n",
    "        classList.append(1)  # 标记垃圾邮件，1表示垃圾文件\n",
    "        wordList = textParse(open('email/ham/%d.txt' % i, 'r').read())  # 读取每个非垃圾邮件，并字符串转换成字符串列表\n",
    "        docList.append(wordList)\n",
    "        fullText.append(wordList)\n",
    "        classList.append(0)  # 标记正常邮件，0表示正常文件\n",
    "    vocabList = createVocabList(docList)  # 创建词汇表，不重复\n",
    "    trainingSet = list(range(50))\n",
    "    testSet = []  # 创建存储训练集的索引值的列表和测试集的索引值的列表\n",
    "    for i in range(10):  # 从50个邮件中，随机挑选出40个作为训练集,10个做测试集\n",
    "        randIndex = int(random.uniform(0, len(trainingSet)))  # 随机选取索索引值\n",
    "        testSet.append(trainingSet[randIndex])  # 添加测试集的索引值\n",
    "        del (trainingSet[randIndex])  # 在训练集列表中删除添加到测试集的索引值\n",
    "    trainMat = []\n",
    "    trainClasses = []  # 创建训练集矩阵和训练集类别标签系向量\n",
    "    for docIndex in trainingSet:  # 遍历训练集\n",
    "        trainMat.append(setOfWords2Vec(vocabList, docList[docIndex]))  # 将生成的词集模型添加到训练矩阵中\n",
    "        trainClasses.append(classList[docIndex])  # 将类别添加到训练集类别标签系向量中\n",
    "    p0V, p1V, pSpam = trainNB0(np.array(trainMat), np.array(trainClasses))  # 训练朴素贝叶斯模型\n",
    "    errorCount = 0  # 错误分类计数\n",
    "    for docIndex in testSet:  # 遍历测试集\n",
    "        wordVector = setOfWords2Vec(vocabList, docList[docIndex])  # 测试集的词集模型\n",
    "        if classifyNB(np.array(wordVector), p0V, p1V, pSpam) != classList[docIndex]:  # 如果分类错误\n",
    "            errorCount += 1  # 错误计数加1\n",
    "            print(\"分类错误的测试集：\", docList[docIndex])\n",
    "    print('错误率：%.2f%%' % (float(errorCount) / len(testSet) * 100))"
   ]
  },
  {
   "cell_type": "code",
   "execution_count": null,
   "metadata": {},
   "outputs": [],
   "source": [
    "if __name__ == '__main__':\n",
    "    spamTest()"
   ]
  }
 ],
 "metadata": {
  "kernelspec": {
   "display_name": "Python 3",
   "language": "python",
   "name": "python3"
  },
  "language_info": {
   "codemirror_mode": {
    "name": "ipython",
    "version": 3
   },
   "file_extension": ".py",
   "mimetype": "text/x-python",
   "name": "python",
   "nbconvert_exporter": "python",
   "pygments_lexer": "ipython3",
   "version": "3.6.5"
  }
 },
 "nbformat": 4,
 "nbformat_minor": 2
}
